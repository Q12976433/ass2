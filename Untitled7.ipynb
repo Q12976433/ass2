{
  "nbformat": 4,
  "nbformat_minor": 0,
  "metadata": {
    "colab": {
      "name": "Untitled7.ipynb",
      "provenance": [],
      "collapsed_sections": [],
      "include_colab_link": true
    },
    "kernelspec": {
      "name": "python3",
      "display_name": "Python 3"
    }
  },
  "cells": [
    {
      "cell_type": "markdown",
      "metadata": {
        "id": "view-in-github",
        "colab_type": "text"
      },
      "source": [
        "<a href=\"https://colab.research.google.com/github/Q12976433/ass2/blob/master/Untitled7.ipynb\" target=\"_parent\"><img src=\"https://colab.research.google.com/assets/colab-badge.svg\" alt=\"Open In Colab\"/></a>"
      ]
    },
    {
      "cell_type": "code",
      "metadata": {
        "id": "IYLmLlk6yc3z",
        "colab_type": "code",
        "outputId": "753b3206-e40d-4110-9953-065bd319c889",
        "colab": {
          "base_uri": "https://localhost:8080/",
          "height": 119
        }
      },
      "source": [
        "!git clone https://github.com/Q12976433/ass2.git"
      ],
      "execution_count": 0,
      "outputs": [
        {
          "output_type": "stream",
          "text": [
            "Cloning into 'ass2'...\n",
            "remote: Enumerating objects: 13, done.\u001b[K\n",
            "remote: Counting objects:   7% (1/13)\u001b[K\rremote: Counting objects:  15% (2/13)\u001b[K\rremote: Counting objects:  23% (3/13)\u001b[K\rremote: Counting objects:  30% (4/13)\u001b[K\rremote: Counting objects:  38% (5/13)\u001b[K\rremote: Counting objects:  46% (6/13)\u001b[K\rremote: Counting objects:  53% (7/13)\u001b[K\rremote: Counting objects:  61% (8/13)\u001b[K\rremote: Counting objects:  69% (9/13)\u001b[K\rremote: Counting objects:  76% (10/13)\u001b[K\rremote: Counting objects:  84% (11/13)\u001b[K\rremote: Counting objects:  92% (12/13)\u001b[K\rremote: Counting objects: 100% (13/13)\u001b[K\rremote: Counting objects: 100% (13/13), done.\u001b[K\n",
            "remote: Compressing objects:   9% (1/11)\u001b[K\rremote: Compressing objects:  18% (2/11)\u001b[K\rremote: Compressing objects:  27% (3/11)\u001b[K\rremote: Compressing objects:  36% (4/11)\u001b[K\rremote: Compressing objects:  45% (5/11)\u001b[K\rremote: Compressing objects:  54% (6/11)\u001b[K\rremote: Compressing objects:  63% (7/11)\u001b[K\rremote: Compressing objects:  72% (8/11)\u001b[K\rremote: Compressing objects:  81% (9/11)\u001b[K\rremote: Compressing objects:  90% (10/11)\u001b[K\rremote: Compressing objects: 100% (11/11)\u001b[K\rremote: Compressing objects: 100% (11/11), done.\u001b[K\n",
            "Unpacking objects:   7% (1/13)   \rUnpacking objects:  15% (2/13)   \rUnpacking objects:  23% (3/13)   \rUnpacking objects:  30% (4/13)   \rUnpacking objects:  38% (5/13)   \rUnpacking objects:  46% (6/13)   \rUnpacking objects:  53% (7/13)   \rUnpacking objects:  61% (8/13)   \rUnpacking objects:  69% (9/13)   \rremote: Total 13 (delta 1), reused 0 (delta 0), pack-reused 0\u001b[K\n",
            "Unpacking objects:  76% (10/13)   \rUnpacking objects:  84% (11/13)   \rUnpacking objects:  92% (12/13)   \rUnpacking objects: 100% (13/13)   \rUnpacking objects: 100% (13/13), done.\n"
          ],
          "name": "stdout"
        }
      ]
    },
    {
      "cell_type": "code",
      "metadata": {
        "id": "SIEOQCSrye4d",
        "colab_type": "code",
        "colab": {}
      },
      "source": [
        "#%matplotlib inline\n",
        "import numpy as np\n",
        "import pandas as pd\n",
        "import matplotlib.pyplot as plt\n",
        "import seaborn as sns\n",
        "import plotly.express as px\n",
        "import plotly\n",
        "df = pd.read_csv('./ass2/AB_NYC_2019.csv')\n"
      ],
      "execution_count": 0,
      "outputs": []
    },
    {
      "cell_type": "code",
      "metadata": {
        "id": "qS1VS2_Ryj0_",
        "colab_type": "code",
        "colab": {}
      },
      "source": [
        "\n",
        "from sklearn.model_selection import cross_val_score\n",
        "from sklearn import preprocessing\n",
        "from sklearn.model_selection import train_test_split\n",
        "from sklearn.neighbors import KNeighborsClassifier\n",
        "from sklearn.metrics import mean_squared_error,r2_score\n"
      ],
      "execution_count": 0,
      "outputs": []
    },
    {
      "cell_type": "code",
      "metadata": {
        "id": "7BQyo8WdzOBp",
        "colab_type": "code",
        "colab": {}
      },
      "source": [
        "# convert str to int\n",
        "df['neighbourhood_group'] = df['neighbourhood_group'].astype('category').cat.codes\n",
        "df['room_type']=df['room_type'].astype('category').cat.codes\n",
        "\n",
        "\n"
      ],
      "execution_count": 0,
      "outputs": []
    },
    {
      "cell_type": "code",
      "metadata": {
        "id": "Gfwo8q0NhDUH",
        "colab_type": "code",
        "colab": {}
      },
      "source": [
        "#IQR is for outlier cleaning, to drop the too large or too small data.\n",
        "q1 = df.quantile(0.25)\n",
        "q3 = df.quantile(0.75)\n",
        "IQR = q3 - q1\n",
        "df = df[~((df < (q1 - 1.5 * IQR)) |(df > (q3 + 1.5 * IQR))).any(axis=1)]\n",
        "print(df)"
      ],
      "execution_count": 0,
      "outputs": []
    },
    {
      "cell_type": "code",
      "metadata": {
        "id": "25nAyxiElp4A",
        "colab_type": "code",
        "colab": {}
      },
      "source": [
        "\n",
        "Y = df['price']\n",
        "choosed_column = df[['neighbourhood_group','longitude','room_type', 'availability_365','latitude']]\n",
        "\n",
        "\n",
        "X = preprocessing.scale(choosed_column)\n",
        "X = np.hstack((np.ones( (len(df['price']) ,2)), X))\n",
        "print(X)\n",
        "\n",
        "X_train, X_test, Y_train, Y_test = train_test_split(X, Y, test_size = 0.2,random_state=1)\n",
        "print(X_train.shape)\n",
        "print(X_test.shape)\n",
        "print(Y_train.shape)\n",
        "print(Y_test.shape)"
      ],
      "execution_count": 0,
      "outputs": []
    },
    {
      "cell_type": "code",
      "metadata": {
        "id": "Bm9GMwmMB0pN",
        "colab_type": "code",
        "colab": {}
      },
      "source": [
        "from sklearn.tree import DecisionTreeRegressor\n",
        "model_tree = DecisionTreeRegressor(random_state=0, max_depth=2)"
      ],
      "execution_count": 0,
      "outputs": []
    },
    {
      "cell_type": "code",
      "metadata": {
        "id": "KgHwI8DEB40o",
        "colab_type": "code",
        "outputId": "b08bef7b-84c1-49a6-fb62-8c92015be1c3",
        "colab": {
          "base_uri": "https://localhost:8080/",
          "height": 71
        }
      },
      "source": [
        "#choose the best parameters for decision tree models\n",
        "from sklearn.model_selection import GridSearchCV\n",
        "parameter = [{'max_depth': np.arange(1, 5),\n",
        "              'min_samples_leaf': [1, 5, 10, 20, 50],\n",
        "              'min_samples_split':[2,4],\n",
        "              'min_weight_fraction_leaf': [0.0,0.1,0.3,0.5],\n",
        "              'random_state':[1,3,4,7,9]}]\n",
        "CV = GridSearchCV(estimator=model_tree, param_grid=parameter,cv=5)\n",
        "CV = CV.fit(X_train, Y_train)\n",
        "\n",
        "print(CV.best_score_)\n",
        "print(CV.best_params_)\n"
      ],
      "execution_count": 0,
      "outputs": [
        {
          "output_type": "stream",
          "text": [
            "0.48411500418717407\n",
            "{'max_depth': 4, 'min_samples_leaf': 50, 'min_samples_split': 2, 'min_weight_fraction_leaf': 0.0, 'random_state': 1}\n"
          ],
          "name": "stdout"
        }
      ]
    },
    {
      "cell_type": "code",
      "metadata": {
        "id": "YXPBHk7LH1Rn",
        "colab_type": "code",
        "colab": {}
      },
      "source": [
        "model_tree = DecisionTreeRegressor(max_depth=4,min_samples_leaf=50,min_samples_split=2,min_weight_fraction_leaf=0.0,random_state=1)"
      ],
      "execution_count": 0,
      "outputs": []
    },
    {
      "cell_type": "code",
      "metadata": {
        "id": "IQTCfL9DMyHK",
        "colab_type": "code",
        "colab": {}
      },
      "source": [
        "model_tree.fit(X_train,Y_train)\n",
        "Y_train_predict = model_tree.predict(X_train)\n",
        "Y_test_predict = model_tree.predict(X_test)"
      ],
      "execution_count": 0,
      "outputs": []
    },
    {
      "cell_type": "code",
      "metadata": {
        "id": "kPwov2L_aBJR",
        "colab_type": "code",
        "outputId": "71030bac-b3f6-4275-d5d6-d4868c5748f1",
        "colab": {
          "base_uri": "https://localhost:8080/",
          "height": 300
        }
      },
      "source": [
        "\n",
        "plt.scatter(Y_train_predict,  Y_train_predict - Y_train,\n",
        "            c='blue', marker='o', label='Training data')\n",
        "plt.scatter(Y_test_predict,  Y_test_predict - Y_test,\n",
        "            c='green', marker='s', label='Test data')\n",
        "\n",
        "plt.xlabel('Predicted price')\n",
        "plt.ylabel('Residuals')\n",
        "\n",
        "\n",
        "\n",
        "\n"
      ],
      "execution_count": 0,
      "outputs": [
        {
          "output_type": "execute_result",
          "data": {
            "text/plain": [
              "Text(0, 0.5, 'Residuals')"
            ]
          },
          "metadata": {
            "tags": []
          },
          "execution_count": 60
        },
        {
          "output_type": "display_data",
          "data": {
            "image/png": "[encoded data removed]",
            "text/plain": [
              "<Figure size 432x288 with 1 Axes>"
            ]
          },
          "metadata": {
            "tags": []
          }
        }
      ]
    },
    {
      "cell_type": "code",
      "metadata": {
        "id": "6uufeMd4lnF9",
        "colab_type": "code",
        "outputId": "84a8a776-a729-424e-8b4e-0563057faa96",
        "colab": {
          "base_uri": "https://localhost:8080/",
          "height": 102
        }
      },
      "source": [
        "#for scoring the model\n",
        "rmse = (np.sqrt(mean_squared_error(Y_test,Y_test_predict)))\n",
        "score = (model_tree.score(X_train,Y_train)*100)\n",
        "print(\"this is the performance of DecisionTree \")\n",
        "print(\"**\"*15)\n",
        "print(\"score is %s  \"  % score)\n",
        "print('MSE train: %.3f, test: %.3f' % (\n",
        "        mean_squared_error(Y_train, Y_train_predict),\n",
        "        mean_squared_error(Y_test, Y_test_predict)))\n",
        "print('R^2 train: %.3f, test: %.3f' % (\n",
        "        r2_score(Y_train, Y_train_predict),\n",
        "        r2_score(Y_test, Y_test_predict)))\n",
        "\n",
        "\n",
        "\n",
        "\n",
        "\n"
      ],
      "execution_count": 0,
      "outputs": [
        {
          "output_type": "stream",
          "text": [
            "this is the performance of DecisionTree \n",
            "******************************\n",
            "score is 48.9282161780629  \n",
            "MSE train: 3576.543, test: 2268.350\n",
            "R^2 train: 0.196, test: 0.490\n"
          ],
          "name": "stdout"
        }
      ]
    },
    {
      "cell_type": "code",
      "metadata": {
        "id": "eECJPifmwrj5",
        "colab_type": "code",
        "colab": {}
      },
      "source": [
        "from sklearn.neighbors import KNeighborsRegressor\n",
        "knn =KNeighborsRegressor()\n",
        "knn.fit(X_train,Y_train)\n",
        "\n"
      ],
      "execution_count": 0,
      "outputs": []
    },
    {
      "cell_type": "code",
      "metadata": {
        "id": "Lov0DqMWVMXH",
        "colab_type": "code",
        "colab": {}
      },
      "source": [
        ""
      ],
      "execution_count": 0,
      "outputs": []
    },
    {
      "cell_type": "code",
      "metadata": {
        "id": "nFS1rws3TElV",
        "colab_type": "code",
        "outputId": "75f46c2f-0930-468f-bac2-d3c71f540fdc",
        "colab": {
          "base_uri": "https://localhost:8080/",
          "height": 51
        }
      },
      "source": [
        "parameterknn = [{'n_neighbors': np.arange(3,13),\n",
        "              }]\n",
        "CV = GridSearchCV(estimator=knn, param_grid=parameterknn,cv=5)\n",
        "CV = CV.fit(X_train, Y_train)\n",
        "\n",
        "print(CV.best_score_)\n",
        "print(CV.best_params_)"
      ],
      "execution_count": 0,
      "outputs": [
        {
          "output_type": "stream",
          "text": [
            "0.5022535042083452\n",
            "{'n_neighbors': 12}\n"
          ],
          "name": "stdout"
        }
      ]
    },
    {
      "cell_type": "code",
      "metadata": {
        "id": "MgJK6R3RUHFn",
        "colab_type": "code",
        "outputId": "9e831266-585a-4689-c7d6-8b651d9ff8e1",
        "colab": {
          "base_uri": "https://localhost:8080/",
          "height": 283
        }
      },
      "source": [
        "knn =KNeighborsRegressor(12)\n",
        "knn.fit(X_train,Y_train)\n",
        "Y_train_predict = knn.predict(X_train)\n",
        "y_test_predict = knn.predict(X_test)\n",
        "\n",
        "plt.scatter(Y_train_predict,  Y_train_predict - Y_train,\n",
        "            c='blue', marker='o', label='Training data')\n",
        "plt.scatter(y_test_predict,  y_test_predict - Y_test,\n",
        "            c='green', marker='s', label='Test data')\n",
        "plt.xlabel('Predicted values')\n",
        "plt.ylabel('Residuals')\n",
        "plt.legend(loc='upper left')\n",
        "plt.show()\n"
      ],
      "execution_count": 0,
      "outputs": [
        {
          "output_type": "display_data",
          "data": {
            "image/png": "[encoded data removed]",
            "text/plain": [
              "<Figure size 432x288 with 1 Axes>"
            ]
          },
          "metadata": {
            "tags": []
          }
        }
      ]
    },
    {
      "cell_type": "markdown",
      "metadata": {
        "id": "XZHZ0bwLpDkh",
        "colab_type": "text"
      },
      "source": [
        ""
      ]
    },
    {
      "cell_type": "code",
      "metadata": {
        "id": "Bnh0yRbRlvYP",
        "colab_type": "code",
        "outputId": "b07cea4f-4ce2-4b4b-99b8-47b6cd7d4c62",
        "colab": {
          "base_uri": "https://localhost:8080/",
          "height": 102
        }
      },
      "source": [
        "rmse = (np.sqrt(mean_squared_error(Y_test,y_test_predict)))\n",
        "print(\"this is the performance of KNN \")\n",
        "print(\"**\"*15)\n",
        "#print(\"correlation coefficient  is %s\" % knn.coef_)\n",
        "score = (knn.score(X_train,Y_train)*100)\n",
        "print(\"score is %s  \"  % score)\n",
        "print('MSE train: %.3f, test: %.3f' % (\n",
        "        mean_squared_error(Y_train, Y_train_predict),\n",
        "        mean_squared_error(Y_test, y_test_predict)))\n",
        "print('R^2 train: %.3f, test: %.3f' % (\n",
        "        r2_score(Y_train, Y_train_predict),\n",
        "        r2_score(Y_test, y_test_predict)))"
      ],
      "execution_count": 0,
      "outputs": [
        {
          "output_type": "stream",
          "text": [
            "this is the performance of KNN \n",
            "******************************\n",
            "score is 57.94432514394361  \n",
            "MSE train: 1871.894, test: 2204.375\n",
            "R^2 train: 0.579, test: 0.504\n"
          ],
          "name": "stdout"
        }
      ]
    }
  ]
}